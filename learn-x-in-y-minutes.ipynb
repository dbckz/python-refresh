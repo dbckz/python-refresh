{
 "cells": [
  {
   "cell_type": "markdown",
   "id": "221d0368",
   "metadata": {},
   "source": [
    "# Learn X in Y minutes\n",
    "\n",
    "This is a notebook that runs through all the concepts in https://learnxinyminutes.com/docs/python/\n",
    "\n",
    "The idea is that actively coding all the concepts myself >>>> just reading what's in the documentation. Here goes!\n",
    "\n"
   ]
  },
  {
   "cell_type": "markdown",
   "id": "36afa996",
   "metadata": {},
   "source": [
    "## Commenting"
   ]
  },
  {
   "cell_type": "code",
   "execution_count": 7,
   "id": "69727a0c",
   "metadata": {},
   "outputs": [],
   "source": [
    "# This is an inline comment. We use a single hashtag for this - peasy. The interpreter ignores everything after a hashtag.\n",
    "\n",
    "\"\"\" This is a multi-line\n",
    "    docstring - we use three \"s for this.\n",
    "    These are read by the interpreter.\n",
    "    To suppress the output, put a semi-colon at the end.\n",
    "\"\"\"\n",
    "\n",
    "''' Turns out you can use\n",
    "    either kind ' or \" for multi-line\n",
    "    comments\n",
    "''';"
   ]
  },
  {
   "cell_type": "markdown",
   "id": "2fa6c25b",
   "metadata": {},
   "source": [
    "## Basic math"
   ]
  },
  {
   "cell_type": "code",
   "execution_count": 9,
   "id": "dcb84de4",
   "metadata": {},
   "outputs": [
    {
     "name": "stdout",
     "output_type": "stream",
     "text": [
      "2\n",
      "7\n",
      "20\n",
      "7.0\n"
     ]
    }
   ],
   "source": [
    "# Math is what you would expect\n",
    "print(1 + 1)\n",
    "print(8 - 1)\n",
    "print(10 * 2)\n",
    "print(35 / 5) # note this is a float"
   ]
  },
  {
   "cell_type": "code",
   "execution_count": 13,
   "id": "8c2583a9",
   "metadata": {},
   "outputs": [
    {
     "name": "stdout",
     "output_type": "stream",
     "text": [
      "1\n",
      "1.0\n",
      "1.0\n",
      "1.0\n"
     ]
    }
   ],
   "source": [
    "# Integer/floor division rounds down\n",
    "print(5 // 3)\n",
    "print(5.0 // 3.0)\n",
    "print (5 // 3.0) # note how the output is a float\n",
    "print(5.0 //3) # and here\n"
   ]
  },
  {
   "cell_type": "code",
   "execution_count": 15,
   "id": "872ff268",
   "metadata": {},
   "outputs": [
    {
     "name": "stdout",
     "output_type": "stream",
     "text": [
      "-2\n"
     ]
    }
   ],
   "source": [
    "# It also rounds down (i.e. MORE negative) for negative numbers\n",
    "print(-5 // 3)"
   ]
  },
  {
   "cell_type": "code",
   "execution_count": 17,
   "id": "7306f204",
   "metadata": {},
   "outputs": [
    {
     "name": "stdout",
     "output_type": "stream",
     "text": [
      "2.0\n",
      "0.6666666666666666\n"
     ]
    }
   ],
   "source": [
    "# Normal division always returns a float\n",
    "print(4 / 2)\n",
    "print(2 / 3)"
   ]
  },
  {
   "cell_type": "code",
   "execution_count": 20,
   "id": "3e1b5dd3",
   "metadata": {},
   "outputs": [
    {
     "name": "stdout",
     "output_type": "stream",
     "text": [
      "2\n",
      "1\n"
     ]
    }
   ],
   "source": [
    "# Modulo returns the remainder from integer division\n",
    "print(5 % 3)\n",
    "print(-5 % 3)"
   ]
  },
  {
   "cell_type": "code",
   "execution_count": 21,
   "id": "747854a3",
   "metadata": {},
   "outputs": [
    {
     "name": "stdout",
     "output_type": "stream",
     "text": [
      "8\n"
     ]
    }
   ],
   "source": [
    "# Exponentiation\n",
    "\n",
    "print(2**3)"
   ]
  },
  {
   "cell_type": "code",
   "execution_count": 22,
   "id": "86a31c6d",
   "metadata": {},
   "outputs": [
    {
     "name": "stdout",
     "output_type": "stream",
     "text": [
      "7\n",
      "8\n"
     ]
    }
   ],
   "source": [
    "# Enforce precedence with brackets\n",
    "print(1 + 3 * 2)    # follows BODMAS\n",
    "print((1 + 3) * 2)"
   ]
  },
  {
   "cell_type": "markdown",
   "id": "f8a36cbe",
   "metadata": {},
   "source": [
    "## Booleans"
   ]
  },
  {
   "cell_type": "code",
   "execution_count": 26,
   "id": "dd9813e0",
   "metadata": {},
   "outputs": [
    {
     "data": {
      "text/plain": [
       "True"
      ]
     },
     "execution_count": 26,
     "metadata": {},
     "output_type": "execute_result"
    }
   ],
   "source": [
    "True"
   ]
  },
  {
   "cell_type": "code",
   "execution_count": 27,
   "id": "74c87cc3",
   "metadata": {},
   "outputs": [
    {
     "data": {
      "text/plain": [
       "False"
      ]
     },
     "execution_count": 27,
     "metadata": {},
     "output_type": "execute_result"
    }
   ],
   "source": [
    "False"
   ]
  },
  {
   "cell_type": "code",
   "execution_count": 28,
   "id": "c8338d94",
   "metadata": {},
   "outputs": [
    {
     "data": {
      "text/plain": [
       "False"
      ]
     },
     "execution_count": 28,
     "metadata": {},
     "output_type": "execute_result"
    }
   ],
   "source": [
    "not True"
   ]
  },
  {
   "cell_type": "code",
   "execution_count": 29,
   "id": "bae9916e",
   "metadata": {},
   "outputs": [
    {
     "data": {
      "text/plain": [
       "True"
      ]
     },
     "execution_count": 29,
     "metadata": {},
     "output_type": "execute_result"
    }
   ],
   "source": [
    "not False"
   ]
  },
  {
   "cell_type": "code",
   "execution_count": 30,
   "id": "8514338f",
   "metadata": {},
   "outputs": [
    {
     "data": {
      "text/plain": [
       "True"
      ]
     },
     "execution_count": 30,
     "metadata": {},
     "output_type": "execute_result"
    }
   ],
   "source": [
    "True or False"
   ]
  },
  {
   "cell_type": "code",
   "execution_count": 31,
   "id": "d833ff58",
   "metadata": {},
   "outputs": [
    {
     "data": {
      "text/plain": [
       "False"
      ]
     },
     "execution_count": 31,
     "metadata": {},
     "output_type": "execute_result"
    }
   ],
   "source": [
    "True and False"
   ]
  },
  {
   "cell_type": "code",
   "execution_count": 32,
   "id": "0e26827f",
   "metadata": {},
   "outputs": [
    {
     "name": "stdout",
     "output_type": "stream",
     "text": [
      "2\n",
      "8\n",
      "-5\n"
     ]
    }
   ],
   "source": [
    "# True and False are actually 1 and 0 but with different keywords\n",
    "print(True + True)\n",
    "print(True * 8)\n",
    "print(False - 5)"
   ]
  },
  {
   "cell_type": "code",
   "execution_count": 33,
   "id": "55b10ca3",
   "metadata": {},
   "outputs": [
    {
     "name": "stdout",
     "output_type": "stream",
     "text": [
      "True\n",
      "True\n",
      "False\n",
      "True\n"
     ]
    }
   ],
   "source": [
    "# Comparison operators look at the numerical value of True and False\n",
    "print(0 == False)   # => True\n",
    "print(2 > True)     # => True\n",
    "print(2 == True)    # => False\n",
    "print(-1 != False)  # => True"
   ]
  },
  {
   "cell_type": "code",
   "execution_count": 39,
   "id": "2caaeaa1",
   "metadata": {},
   "outputs": [
    {
     "name": "stdout",
     "output_type": "stream",
     "text": [
      "False\n",
      "False\n",
      "False\n",
      "False\n",
      "False\n",
      "False\n"
     ]
    }
   ],
   "source": [
    "# None, 0, and empty strings/lists/dicts/tuples/sets all evaluate to False.\n",
    "print(bool(None))\n",
    "print(bool(0))\n",
    "print(bool(''))\n",
    "print(bool([]))\n",
    "print(bool({}))\n",
    "print(bool(()))"
   ]
  },
  {
   "cell_type": "code",
   "execution_count": 45,
   "id": "5149eb5e",
   "metadata": {},
   "outputs": [
    {
     "name": "stdout",
     "output_type": "stream",
     "text": [
      "True\n",
      "True\n",
      "True\n",
      "True\n",
      "True\n"
     ]
    }
   ],
   "source": [
    "# Everything else evaluates to True\n",
    "print(bool(7))\n",
    "print(bool('hello'))\n",
    "print(bool(['list']))\n",
    "print(bool({'dict': 'ionary'}))\n",
    "print(bool(('tu','ple')))"
   ]
  },
  {
   "cell_type": "code",
   "execution_count": 55,
   "id": "862d6746",
   "metadata": {},
   "outputs": [
    {
     "name": "stdout",
     "output_type": "stream",
     "text": [
      "5\n",
      "5\n",
      "1\n",
      "1\n",
      "5\n",
      "0\n",
      "0\n",
      "5\n",
      "5\n"
     ]
    }
   ],
   "source": [
    "# When we use boolean operators on ints, it temporarily casts them to their boolean value in order to\n",
    "# carry out the logic, BUT it returns their non-cast (i.e. original integer) value! This is a little confusing!\n",
    "\n",
    "print(5 or 0) # returns 5\n",
    "print(5 or 1) # returns 5 - because the interpreter only needs to evaluate the first number to know it's True!\n",
    "print(1 or 5) # returns 1\n",
    "print(5 and 1) #returns 1 - because the interpreter needs to evaluate both numbers to know it's True!\n",
    "print(1 and 5) # returns 5\n",
    "print(0 and 5) # returns 0\n",
    "print(5 and 0) # returns 0\n",
    "print(0 or 5) # returns 5\n",
    "print(5 or 0) # returns 5"
   ]
  },
  {
   "cell_type": "code",
   "execution_count": 56,
   "id": "6456795f",
   "metadata": {},
   "outputs": [
    {
     "name": "stdout",
     "output_type": "stream",
     "text": [
      "True\n",
      "False\n"
     ]
    }
   ],
   "source": [
    "# Equality\n",
    "print(1 == 1)\n",
    "print(2 == 1)"
   ]
  },
  {
   "cell_type": "code",
   "execution_count": 57,
   "id": "530579b7",
   "metadata": {},
   "outputs": [
    {
     "name": "stdout",
     "output_type": "stream",
     "text": [
      "False\n",
      "True\n"
     ]
    }
   ],
   "source": [
    "# Inequality\n",
    "print(1 != 1)\n",
    "print(2 != 1)"
   ]
  },
  {
   "cell_type": "code",
   "execution_count": 59,
   "id": "c5ec9adc",
   "metadata": {},
   "outputs": [
    {
     "name": "stdout",
     "output_type": "stream",
     "text": [
      "True\n",
      "False\n",
      "True\n",
      "True\n"
     ]
    }
   ],
   "source": [
    "# Comparisons\n",
    "print(1 < 10)  # => True\n",
    "print(1 > 10)  # => False\n",
    "print(2 <= 2)  # => True\n",
    "print(2 >= 2)  # => True"
   ]
  },
  {
   "cell_type": "code",
   "execution_count": 60,
   "id": "b36115f5",
   "metadata": {},
   "outputs": [
    {
     "name": "stdout",
     "output_type": "stream",
     "text": [
      "True\n",
      "True\n"
     ]
    }
   ],
   "source": [
    "# Ranges with comparisons\n",
    "\n",
    "# Check whether a number is in a range\n",
    "print(1 < 2 and 2 < 3)\n",
    "\n",
    "# We can write this more nicely using 'chaining'\n",
    "print(1 < 2 < 3)"
   ]
  },
  {
   "cell_type": "code",
   "execution_count": null,
   "id": "917b6eec",
   "metadata": {},
   "outputs": [],
   "source": [
    "# UP TO HERE\n",
    "# (is vs. ==) is checks if two variables refer to the same object, but == checks\n",
    "# if the objects pointed to have the same values."
   ]
  }
 ],
 "metadata": {
  "kernelspec": {
   "display_name": "Python 3 (ipykernel)",
   "language": "python",
   "name": "python3"
  },
  "language_info": {
   "codemirror_mode": {
    "name": "ipython",
    "version": 3
   },
   "file_extension": ".py",
   "mimetype": "text/x-python",
   "name": "python",
   "nbconvert_exporter": "python",
   "pygments_lexer": "ipython3",
   "version": "3.9.12"
  }
 },
 "nbformat": 4,
 "nbformat_minor": 5
}
