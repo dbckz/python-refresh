{
 "cells": [
  {
   "cell_type": "markdown",
   "id": "221d0368",
   "metadata": {},
   "source": [
    "# Learn X in Y minutes\n",
    "\n",
    "This is a notebook that runs through all the concepts in https://learnxinyminutes.com/docs/python/\n",
    "\n",
    "The idea is that actively coding all the concepts myself >>>> just reading what's in the documentation. Here goes!\n",
    "\n"
   ]
  },
  {
   "cell_type": "markdown",
   "id": "36afa996",
   "metadata": {},
   "source": [
    "## Commenting"
   ]
  },
  {
   "cell_type": "code",
   "execution_count": 7,
   "id": "69727a0c",
   "metadata": {},
   "outputs": [],
   "source": [
    "# This is an inline comment. We use a single hashtag for this - peasy. The interpreter ignores everything after a hashtag.\n",
    "\n",
    "\"\"\" This is a multi-line\n",
    "    docstring - we use three \"s for this.\n",
    "    These are read by the interpreter.\n",
    "    To suppress the output, put a semi-colon at the end.\n",
    "\"\"\"\n",
    "\n",
    "''' Turns out you can use\n",
    "    either kind ' or \" for multi-line\n",
    "    comments\n",
    "''';"
   ]
  },
  {
   "cell_type": "markdown",
   "id": "2fa6c25b",
   "metadata": {},
   "source": [
    "## Basic math"
   ]
  },
  {
   "cell_type": "code",
   "execution_count": 9,
   "id": "dcb84de4",
   "metadata": {},
   "outputs": [
    {
     "name": "stdout",
     "output_type": "stream",
     "text": [
      "2\n",
      "7\n",
      "20\n",
      "7.0\n"
     ]
    }
   ],
   "source": [
    "# Math is what you would expect\n",
    "print(1 + 1)\n",
    "print(8 - 1)\n",
    "print(10 * 2)\n",
    "print(35 / 5) # note this is a float"
   ]
  },
  {
   "cell_type": "code",
   "execution_count": 13,
   "id": "8c2583a9",
   "metadata": {},
   "outputs": [
    {
     "name": "stdout",
     "output_type": "stream",
     "text": [
      "1\n",
      "1.0\n",
      "1.0\n",
      "1.0\n"
     ]
    }
   ],
   "source": [
    "# Integer/floor division rounds down\n",
    "print(5 // 3)\n",
    "print(5.0 // 3.0)\n",
    "print (5 // 3.0) # note how the output is a float\n",
    "print(5.0 //3) # and here\n"
   ]
  },
  {
   "cell_type": "code",
   "execution_count": 15,
   "id": "872ff268",
   "metadata": {},
   "outputs": [
    {
     "name": "stdout",
     "output_type": "stream",
     "text": [
      "-2\n"
     ]
    }
   ],
   "source": [
    "# It also rounds down (i.e. MORE negative) for negative numbers\n",
    "print(-5 // 3)"
   ]
  },
  {
   "cell_type": "code",
   "execution_count": 17,
   "id": "7306f204",
   "metadata": {},
   "outputs": [
    {
     "name": "stdout",
     "output_type": "stream",
     "text": [
      "2.0\n",
      "0.6666666666666666\n"
     ]
    }
   ],
   "source": [
    "# Normal division always returns a float\n",
    "print(4 / 2)\n",
    "print(2 / 3)"
   ]
  },
  {
   "cell_type": "code",
   "execution_count": 20,
   "id": "3e1b5dd3",
   "metadata": {},
   "outputs": [
    {
     "name": "stdout",
     "output_type": "stream",
     "text": [
      "2\n",
      "1\n"
     ]
    }
   ],
   "source": [
    "# Modulo returns the remainder from integer division\n",
    "print(5 % 3)\n",
    "print(-5 % 3)"
   ]
  },
  {
   "cell_type": "code",
   "execution_count": 21,
   "id": "747854a3",
   "metadata": {},
   "outputs": [
    {
     "name": "stdout",
     "output_type": "stream",
     "text": [
      "8\n"
     ]
    }
   ],
   "source": [
    "# Exponentiation\n",
    "\n",
    "print(2**3)"
   ]
  },
  {
   "cell_type": "code",
   "execution_count": 22,
   "id": "86a31c6d",
   "metadata": {},
   "outputs": [
    {
     "name": "stdout",
     "output_type": "stream",
     "text": [
      "7\n",
      "8\n"
     ]
    }
   ],
   "source": [
    "# Enforce precedence with brackets\n",
    "print(1 + 3 * 2)    # follows BODMAS\n",
    "print((1 + 3) * 2)"
   ]
  },
  {
   "cell_type": "markdown",
   "id": "f8a36cbe",
   "metadata": {},
   "source": [
    "## Booleans"
   ]
  },
  {
   "cell_type": "code",
   "execution_count": 26,
   "id": "dd9813e0",
   "metadata": {},
   "outputs": [
    {
     "data": {
      "text/plain": [
       "True"
      ]
     },
     "execution_count": 26,
     "metadata": {},
     "output_type": "execute_result"
    }
   ],
   "source": [
    "True"
   ]
  },
  {
   "cell_type": "code",
   "execution_count": 27,
   "id": "74c87cc3",
   "metadata": {},
   "outputs": [
    {
     "data": {
      "text/plain": [
       "False"
      ]
     },
     "execution_count": 27,
     "metadata": {},
     "output_type": "execute_result"
    }
   ],
   "source": [
    "False"
   ]
  },
  {
   "cell_type": "code",
   "execution_count": 28,
   "id": "c8338d94",
   "metadata": {},
   "outputs": [
    {
     "data": {
      "text/plain": [
       "False"
      ]
     },
     "execution_count": 28,
     "metadata": {},
     "output_type": "execute_result"
    }
   ],
   "source": [
    "not True"
   ]
  },
  {
   "cell_type": "code",
   "execution_count": 29,
   "id": "bae9916e",
   "metadata": {},
   "outputs": [
    {
     "data": {
      "text/plain": [
       "True"
      ]
     },
     "execution_count": 29,
     "metadata": {},
     "output_type": "execute_result"
    }
   ],
   "source": [
    "not False"
   ]
  },
  {
   "cell_type": "code",
   "execution_count": 30,
   "id": "8514338f",
   "metadata": {},
   "outputs": [
    {
     "data": {
      "text/plain": [
       "True"
      ]
     },
     "execution_count": 30,
     "metadata": {},
     "output_type": "execute_result"
    }
   ],
   "source": [
    "True or False"
   ]
  },
  {
   "cell_type": "code",
   "execution_count": 31,
   "id": "d833ff58",
   "metadata": {},
   "outputs": [
    {
     "data": {
      "text/plain": [
       "False"
      ]
     },
     "execution_count": 31,
     "metadata": {},
     "output_type": "execute_result"
    }
   ],
   "source": [
    "True and False"
   ]
  },
  {
   "cell_type": "code",
   "execution_count": 32,
   "id": "0e26827f",
   "metadata": {},
   "outputs": [
    {
     "name": "stdout",
     "output_type": "stream",
     "text": [
      "2\n",
      "8\n",
      "-5\n"
     ]
    }
   ],
   "source": [
    "# True and False are actually 1 and 0 but with different keywords\n",
    "print(True + True)\n",
    "print(True * 8)\n",
    "print(False - 5)"
   ]
  },
  {
   "cell_type": "code",
   "execution_count": 33,
   "id": "55b10ca3",
   "metadata": {},
   "outputs": [
    {
     "name": "stdout",
     "output_type": "stream",
     "text": [
      "True\n",
      "True\n",
      "False\n",
      "True\n"
     ]
    }
   ],
   "source": [
    "# Comparison operators look at the numerical value of True and False\n",
    "print(0 == False)   # => True\n",
    "print(2 > True)     # => True\n",
    "print(2 == True)    # => False\n",
    "print(-1 != False)  # => True"
   ]
  },
  {
   "cell_type": "code",
   "execution_count": 39,
   "id": "2caaeaa1",
   "metadata": {},
   "outputs": [
    {
     "name": "stdout",
     "output_type": "stream",
     "text": [
      "False\n",
      "False\n",
      "False\n",
      "False\n",
      "False\n",
      "False\n"
     ]
    }
   ],
   "source": [
    "# None, 0, and empty strings/lists/dicts/tuples/sets all evaluate to False.\n",
    "print(bool(None))\n",
    "print(bool(0))\n",
    "print(bool(''))\n",
    "print(bool([]))\n",
    "print(bool({}))\n",
    "print(bool(()))"
   ]
  },
  {
   "cell_type": "code",
   "execution_count": 45,
   "id": "5149eb5e",
   "metadata": {},
   "outputs": [
    {
     "name": "stdout",
     "output_type": "stream",
     "text": [
      "True\n",
      "True\n",
      "True\n",
      "True\n",
      "True\n"
     ]
    }
   ],
   "source": [
    "# Everything else evaluates to True\n",
    "print(bool(7))\n",
    "print(bool('hello'))\n",
    "print(bool(['list']))\n",
    "print(bool({'dict': 'ionary'}))\n",
    "print(bool(('tu','ple')))"
   ]
  },
  {
   "cell_type": "code",
   "execution_count": 55,
   "id": "862d6746",
   "metadata": {},
   "outputs": [
    {
     "name": "stdout",
     "output_type": "stream",
     "text": [
      "5\n",
      "5\n",
      "1\n",
      "1\n",
      "5\n",
      "0\n",
      "0\n",
      "5\n",
      "5\n"
     ]
    }
   ],
   "source": [
    "# When we use boolean operators on ints, it temporarily casts them to their boolean value in order to\n",
    "# carry out the logic, BUT it returns their non-cast (i.e. original integer) value! This is a little confusing!\n",
    "\n",
    "print(5 or 0) # returns 5\n",
    "print(5 or 1) # returns 5 - because the interpreter only needs to evaluate the first number to know it's True!\n",
    "print(1 or 5) # returns 1\n",
    "print(5 and 1) #returns 1 - because the interpreter needs to evaluate both numbers to know it's True!\n",
    "print(1 and 5) # returns 5\n",
    "print(0 and 5) # returns 0\n",
    "print(5 and 0) # returns 0\n",
    "print(0 or 5) # returns 5\n",
    "print(5 or 0) # returns 5"
   ]
  },
  {
   "cell_type": "code",
   "execution_count": 56,
   "id": "6456795f",
   "metadata": {},
   "outputs": [
    {
     "name": "stdout",
     "output_type": "stream",
     "text": [
      "True\n",
      "False\n"
     ]
    }
   ],
   "source": [
    "# Equality\n",
    "print(1 == 1)\n",
    "print(2 == 1)"
   ]
  },
  {
   "cell_type": "code",
   "execution_count": 57,
   "id": "530579b7",
   "metadata": {},
   "outputs": [
    {
     "name": "stdout",
     "output_type": "stream",
     "text": [
      "False\n",
      "True\n"
     ]
    }
   ],
   "source": [
    "# Inequality\n",
    "print(1 != 1)\n",
    "print(2 != 1)"
   ]
  },
  {
   "cell_type": "code",
   "execution_count": 59,
   "id": "c5ec9adc",
   "metadata": {},
   "outputs": [
    {
     "name": "stdout",
     "output_type": "stream",
     "text": [
      "True\n",
      "False\n",
      "True\n",
      "True\n"
     ]
    }
   ],
   "source": [
    "# Comparisons\n",
    "print(1 < 10)  # => True\n",
    "print(1 > 10)  # => False\n",
    "print(2 <= 2)  # => True\n",
    "print(2 >= 2)  # => True"
   ]
  },
  {
   "cell_type": "code",
   "execution_count": 60,
   "id": "b36115f5",
   "metadata": {},
   "outputs": [
    {
     "name": "stdout",
     "output_type": "stream",
     "text": [
      "True\n",
      "True\n"
     ]
    }
   ],
   "source": [
    "# Ranges with comparisons\n",
    "\n",
    "# Check whether a number is in a range\n",
    "print(1 < 2 and 2 < 3)\n",
    "\n",
    "# We can write this more nicely using 'chaining'\n",
    "print(1 < 2 < 3)"
   ]
  },
  {
   "cell_type": "code",
   "execution_count": 2,
   "id": "917b6eec",
   "metadata": {},
   "outputs": [
    {
     "name": "stdout",
     "output_type": "stream",
     "text": [
      "True\n",
      "True\n",
      "False\n",
      "True\n"
     ]
    }
   ],
   "source": [
    "# is vs. ==\n",
    "#\n",
    "# is checks if two variables refer to the same object, but == checks\n",
    "# if the objects pointed to have the same values.\n",
    "\n",
    "a = [1, 2, 3, 4]  # Point a at a new list, [1, 2, 3, 4]\n",
    "b = a             # Point b at what a is pointing to\n",
    "print(b is a)            # => True, a and b refer to the same object\n",
    "print(b == a)            # => True, a's and b's objects are equal\n",
    "b = [1, 2, 3, 4]  # Point b at a new list, [1, 2, 3, 4]\n",
    "print(b is a)            # => False, a and b do not refer to the same object\n",
    "print(b == a)            # => True, a's and b's objects are equal"
   ]
  },
  {
   "cell_type": "markdown",
   "id": "0cf20cee",
   "metadata": {},
   "source": [
    "## Strings"
   ]
  },
  {
   "cell_type": "code",
   "execution_count": 6,
   "id": "82572bbe",
   "metadata": {},
   "outputs": [
    {
     "data": {
      "text/plain": [
       "'This is another string'"
      ]
     },
     "execution_count": 6,
     "metadata": {},
     "output_type": "execute_result"
    }
   ],
   "source": [
    "\"This is a string\"\n",
    "'This is another string'"
   ]
  },
  {
   "cell_type": "code",
   "execution_count": 7,
   "id": "e94e4381",
   "metadata": {},
   "outputs": [
    {
     "data": {
      "text/plain": [
       "'Hello world'"
      ]
     },
     "execution_count": 7,
     "metadata": {},
     "output_type": "execute_result"
    }
   ],
   "source": [
    "# Concatenation\n",
    "\"Hello\" + \" world\""
   ]
  },
  {
   "cell_type": "code",
   "execution_count": 8,
   "id": "af6a2833",
   "metadata": {},
   "outputs": [
    {
     "data": {
      "text/plain": [
       "'Hello world'"
      ]
     },
     "execution_count": 8,
     "metadata": {},
     "output_type": "execute_result"
    }
   ],
   "source": [
    "# For string literals (but not variables) you can skip the + sign (but tbh why would you bother?)\n",
    "\"Hello \" \"world\""
   ]
  },
  {
   "cell_type": "code",
   "execution_count": 10,
   "id": "ac858385",
   "metadata": {},
   "outputs": [
    {
     "name": "stdout",
     "output_type": "stream",
     "text": [
      "H\n",
      "11\n"
     ]
    }
   ],
   "source": [
    "# A string is a list of chars\n",
    "print(\"Hello world\"[0])\n",
    "print(len(\"Hello world\"))"
   ]
  },
  {
   "cell_type": "code",
   "execution_count": 13,
   "id": "0961287d",
   "metadata": {},
   "outputs": [
    {
     "data": {
      "text/plain": [
       "\"My name is Dave. It's 4 letters long\""
      ]
     },
     "execution_count": 13,
     "metadata": {},
     "output_type": "execute_result"
    }
   ],
   "source": [
    "# f-strings\n",
    "# \n",
    "# New in 3.6, this is the best way to format strings with variables\n",
    "name = \"Dave\"\n",
    "f\"My name is {name}. It's {len(name)} letters long\" # put whatever you like in the {}"
   ]
  },
  {
   "cell_type": "markdown",
   "id": "56d3ecad",
   "metadata": {},
   "source": [
    "## None"
   ]
  },
  {
   "cell_type": "code",
   "execution_count": 14,
   "id": "4c65b3f0",
   "metadata": {},
   "outputs": [
    {
     "name": "stdout",
     "output_type": "stream",
     "text": [
      "None\n"
     ]
    }
   ],
   "source": [
    "# None is an object\n",
    "print(None)"
   ]
  },
  {
   "cell_type": "code",
   "execution_count": 21,
   "id": "c3a9ede7",
   "metadata": {},
   "outputs": [
    {
     "name": "stdout",
     "output_type": "stream",
     "text": [
      "False\n",
      "True\n"
     ]
    }
   ],
   "source": [
    "# It's common to want to compare to None - use 'is' not ==, so that we compare object\n",
    "name = \"dave\"\n",
    "print(name is None)\n",
    "print(None is None)"
   ]
  },
  {
   "cell_type": "markdown",
   "id": "4a9b141d",
   "metadata": {},
   "source": [
    "## Print"
   ]
  },
  {
   "cell_type": "code",
   "execution_count": 24,
   "id": "bfe39177",
   "metadata": {},
   "outputs": [
    {
     "name": "stdout",
     "output_type": "stream",
     "text": [
      "Hello world!Nonewline\n"
     ]
    }
   ],
   "source": [
    "# By default print buts a new line at the end - we can change this as follows\n",
    "print(\"Hello world\", end=\"!\")\n",
    "print(\"Nonewline\")"
   ]
  },
  {
   "cell_type": "markdown",
   "id": "caef42e5",
   "metadata": {},
   "source": [
    "## Input"
   ]
  },
  {
   "cell_type": "code",
   "execution_count": 26,
   "id": "b8d16d01",
   "metadata": {},
   "outputs": [
    {
     "name": "stdout",
     "output_type": "stream",
     "text": [
      "Enter some data: test\n"
     ]
    }
   ],
   "source": [
    "## Basic way to get input from the console\n",
    "some_var = input(\"Enter some data: \")"
   ]
  },
  {
   "cell_type": "markdown",
   "id": "b4280718",
   "metadata": {},
   "source": [
    "## Variables"
   ]
  },
  {
   "cell_type": "code",
   "execution_count": 27,
   "id": "5d03ef5d",
   "metadata": {},
   "outputs": [
    {
     "ename": "NameError",
     "evalue": "name 'unknown_var' is not defined",
     "output_type": "error",
     "traceback": [
      "\u001b[0;31m---------------------------------------------------------------------------\u001b[0m",
      "\u001b[0;31mNameError\u001b[0m                                 Traceback (most recent call last)",
      "Cell \u001b[0;32mIn[27], line 2\u001b[0m\n\u001b[1;32m      1\u001b[0m \u001b[38;5;66;03m# If a var hasn't been assigned, we get a NameError\u001b[39;00m\n\u001b[0;32m----> 2\u001b[0m \u001b[43munknown_var\u001b[49m\n",
      "\u001b[0;31mNameError\u001b[0m: name 'unknown_var' is not defined"
     ]
    }
   ],
   "source": [
    "# If a var hasn't been assigned, we get a NameError\n",
    "unknown_var"
   ]
  },
  {
   "cell_type": "code",
   "execution_count": 28,
   "id": "817732c0",
   "metadata": {},
   "outputs": [
    {
     "data": {
      "text/plain": [
       "'yes'"
      ]
     },
     "execution_count": 28,
     "metadata": {},
     "output_type": "execute_result"
    }
   ],
   "source": [
    "# Basic single-line if (ternary operator)\n",
    "\"yes\" if 2 > 1 else \"no\""
   ]
  },
  {
   "cell_type": "markdown",
   "id": "9f4c1b7f",
   "metadata": {},
   "source": [
    "## Lists"
   ]
  },
  {
   "cell_type": "code",
   "execution_count": 38,
   "id": "81827e7b",
   "metadata": {},
   "outputs": [
    {
     "data": {
      "text/plain": [
       "[1, 2, 3, 4]"
      ]
     },
     "execution_count": 38,
     "metadata": {},
     "output_type": "execute_result"
    }
   ],
   "source": [
    "li = [1]\n",
    "li.append(2)\n",
    "li.append(3)\n",
    "li.append(4)\n",
    "li"
   ]
  },
  {
   "cell_type": "code",
   "execution_count": 39,
   "id": "2d784ac2",
   "metadata": {},
   "outputs": [
    {
     "data": {
      "text/plain": [
       "[1, 2, 3]"
      ]
     },
     "execution_count": 39,
     "metadata": {},
     "output_type": "execute_result"
    }
   ],
   "source": [
    "# pops off the last in\n",
    "li.pop()\n",
    "li"
   ]
  },
  {
   "cell_type": "code",
   "execution_count": 43,
   "id": "c140beec",
   "metadata": {},
   "outputs": [
    {
     "name": "stdout",
     "output_type": "stream",
     "text": [
      "1\n",
      "4\n"
     ]
    },
    {
     "ename": "IndexError",
     "evalue": "list index out of range",
     "output_type": "error",
     "traceback": [
      "\u001b[0;31m---------------------------------------------------------------------------\u001b[0m",
      "\u001b[0;31mIndexError\u001b[0m                                Traceback (most recent call last)",
      "Cell \u001b[0;32mIn[43], line 5\u001b[0m\n\u001b[1;32m      3\u001b[0m \u001b[38;5;28mprint\u001b[39m(li[\u001b[38;5;241m0\u001b[39m])\n\u001b[1;32m      4\u001b[0m \u001b[38;5;28mprint\u001b[39m(li[\u001b[38;5;241m-\u001b[39m\u001b[38;5;241m1\u001b[39m])\n\u001b[0;32m----> 5\u001b[0m \u001b[38;5;28mprint\u001b[39m(\u001b[43mli\u001b[49m\u001b[43m[\u001b[49m\u001b[38;5;241;43m4\u001b[39;49m\u001b[43m]\u001b[49m)\n",
      "\u001b[0;31mIndexError\u001b[0m: list index out of range"
     ]
    }
   ],
   "source": [
    "li = [1,2,3,4]\n",
    "\n",
    "print(li[0])\n",
    "print(li[-1])\n",
    "print(li[4]) # IndexError"
   ]
  },
  {
   "cell_type": "code",
   "execution_count": 55,
   "id": "8869c5c5",
   "metadata": {},
   "outputs": [
    {
     "name": "stdout",
     "output_type": "stream",
     "text": [
      "[2, 3]\n",
      "[2, 3, 4]\n",
      "[1, 2, 3]\n",
      "[1, 3]\n",
      "[1, 4]\n",
      "[1]\n",
      "[4, 3, 2, 1]\n",
      "[4, 2]\n"
     ]
    }
   ],
   "source": [
    "# We can slice a list\n",
    "print(li[1:3])\n",
    "print(li[1:])\n",
    "print(li[:3])\n",
    "print(li[::2]) # print the list taking a step size of 2 (i.e. skip every other element), so 1,3\n",
    "print(li[::3]) # 1,4\n",
    "print(li[::4]) # 1\n",
    "print(li[::-1]) # print it in reverse order\n",
    "print(li[::-2]) # print in reverse, with step size 2"
   ]
  },
  {
   "cell_type": "code",
   "execution_count": 57,
   "id": "f9bc483f",
   "metadata": {},
   "outputs": [
    {
     "name": "stdout",
     "output_type": "stream",
     "text": [
      "False\n",
      "True\n"
     ]
    }
   ],
   "source": [
    "# Make a 1 layer deep copy using a slice\n",
    "li2 = li[:]\n",
    "print(li2 is li) # different objects so False\n",
    "print(li2 == li) # they have same value so True"
   ]
  },
  {
   "cell_type": "code",
   "execution_count": 58,
   "id": "625c6efa",
   "metadata": {},
   "outputs": [
    {
     "name": "stdout",
     "output_type": "stream",
     "text": [
      "[1, 2, 4]\n"
     ]
    }
   ],
   "source": [
    "# Remove by index\n",
    "del li[2]\n",
    "print(li)"
   ]
  },
  {
   "cell_type": "code",
   "execution_count": 61,
   "id": "46d904d5",
   "metadata": {},
   "outputs": [
    {
     "data": {
      "text/plain": [
       "[1, 3, 2]"
      ]
     },
     "execution_count": 61,
     "metadata": {},
     "output_type": "execute_result"
    }
   ],
   "source": [
    "# Remove by value\n",
    "li = [1,2,3,2]\n",
    "li.remove(2) # will remove the first 2 from the list\n",
    "li"
   ]
  },
  {
   "cell_type": "code",
   "execution_count": 62,
   "id": "6ee5d729",
   "metadata": {},
   "outputs": [
    {
     "data": {
      "text/plain": [
       "[7, 1, 3, 2]"
      ]
     },
     "execution_count": 62,
     "metadata": {},
     "output_type": "execute_result"
    }
   ],
   "source": [
    "# Insert into a list by index\n",
    "li.insert(0, 7)\n",
    "li"
   ]
  },
  {
   "cell_type": "code",
   "execution_count": 64,
   "id": "4fc1a366",
   "metadata": {},
   "outputs": [
    {
     "name": "stdout",
     "output_type": "stream",
     "text": [
      "2\n"
     ]
    },
    {
     "ename": "ValueError",
     "evalue": "22 is not in list",
     "output_type": "error",
     "traceback": [
      "\u001b[0;31m---------------------------------------------------------------------------\u001b[0m",
      "\u001b[0;31mValueError\u001b[0m                                Traceback (most recent call last)",
      "Cell \u001b[0;32mIn[64], line 4\u001b[0m\n\u001b[1;32m      1\u001b[0m \u001b[38;5;66;03m# Get the index corresponding to where the value is first found\u001b[39;00m\n\u001b[1;32m      3\u001b[0m \u001b[38;5;28mprint\u001b[39m(li\u001b[38;5;241m.\u001b[39mindex(\u001b[38;5;241m3\u001b[39m))\n\u001b[0;32m----> 4\u001b[0m \u001b[38;5;28mprint\u001b[39m(\u001b[43mli\u001b[49m\u001b[38;5;241;43m.\u001b[39;49m\u001b[43mindex\u001b[49m\u001b[43m(\u001b[49m\u001b[38;5;241;43m22\u001b[39;49m\u001b[43m)\u001b[49m)\n",
      "\u001b[0;31mValueError\u001b[0m: 22 is not in list"
     ]
    }
   ],
   "source": [
    "# Get the index corresponding to where the value is first found\n",
    "\n",
    "print(li.index(3))\n",
    "print(li.index(22)) # ValueError as it's not in the list"
   ]
  },
  {
   "cell_type": "code",
   "execution_count": 66,
   "id": "717b3b20",
   "metadata": {},
   "outputs": [
    {
     "data": {
      "text/plain": [
       "[1, 2, 3, 4, 5, 6]"
      ]
     },
     "execution_count": 66,
     "metadata": {},
     "output_type": "execute_result"
    }
   ],
   "source": [
    "# concatenate lists\n",
    "li1 = [1,2,3]\n",
    "li2 = [4,5,6]\n",
    "\n",
    "li1 + li2 # note li1 and li2 are unchanged"
   ]
  },
  {
   "cell_type": "code",
   "execution_count": 67,
   "id": "8fa7a98b",
   "metadata": {},
   "outputs": [
    {
     "data": {
      "text/plain": [
       "[1, 2, 3, 4, 5, 6]"
      ]
     },
     "execution_count": 67,
     "metadata": {},
     "output_type": "execute_result"
    }
   ],
   "source": [
    "# To extend a list\n",
    "\n",
    "li1.extend(li2)\n",
    "li1"
   ]
  },
  {
   "cell_type": "code",
   "execution_count": 68,
   "id": "9d53f3a1",
   "metadata": {},
   "outputs": [
    {
     "name": "stdout",
     "output_type": "stream",
     "text": [
      "True\n",
      "False\n"
     ]
    }
   ],
   "source": [
    "# Check if value in a list\n",
    "print(1 in li1)\n",
    "print(7 in li1)"
   ]
  },
  {
   "cell_type": "markdown",
   "id": "dd9770e5",
   "metadata": {},
   "source": [
    "## Tuples"
   ]
  },
  {
   "cell_type": "code",
   "execution_count": 70,
   "id": "00bb2572",
   "metadata": {},
   "outputs": [
    {
     "name": "stdout",
     "output_type": "stream",
     "text": [
      "1\n"
     ]
    },
    {
     "ename": "TypeError",
     "evalue": "'tuple' object does not support item assignment",
     "output_type": "error",
     "traceback": [
      "\u001b[0;31m---------------------------------------------------------------------------\u001b[0m",
      "\u001b[0;31mTypeError\u001b[0m                                 Traceback (most recent call last)",
      "Cell \u001b[0;32mIn[70], line 4\u001b[0m\n\u001b[1;32m      2\u001b[0m tup \u001b[38;5;241m=\u001b[39m (\u001b[38;5;241m1\u001b[39m,\u001b[38;5;241m2\u001b[39m,\u001b[38;5;241m3\u001b[39m)\n\u001b[1;32m      3\u001b[0m \u001b[38;5;28mprint\u001b[39m(tup[\u001b[38;5;241m0\u001b[39m])\n\u001b[0;32m----> 4\u001b[0m tup[\u001b[38;5;241m0\u001b[39m] \u001b[38;5;241m=\u001b[39m \u001b[38;5;241m7\u001b[39m\n",
      "\u001b[0;31mTypeError\u001b[0m: 'tuple' object does not support item assignment"
     ]
    }
   ],
   "source": [
    "# Tuples are like lists, but are immutable\n",
    "tup = (1,2,3)\n",
    "print(tup[0])\n",
    "tup[0] = 7 # TypeError - list is immutable so we cannot change its elements"
   ]
  },
  {
   "cell_type": "code",
   "execution_count": 71,
   "id": "7320e9cd",
   "metadata": {},
   "outputs": [
    {
     "name": "stdout",
     "output_type": "stream",
     "text": [
      "<class 'int'>\n",
      "<class 'tuple'>\n",
      "<class 'tuple'>\n"
     ]
    }
   ],
   "source": [
    "# Note that a tuple of length one has to have a comma after the last element but\n",
    "# tuples of other lengths, even zero, do not.\n",
    "print(type((1)))   # => <class 'int'>\n",
    "print(type((1,)))  # => <class 'tuple'>\n",
    "print(type(()))    # => <class 'tuple'>"
   ]
  },
  {
   "cell_type": "code",
   "execution_count": 75,
   "id": "f9a7820e",
   "metadata": {},
   "outputs": [
    {
     "name": "stdout",
     "output_type": "stream",
     "text": [
      "3\n",
      "(1, 2, 3, 4, 5, 6)\n",
      "(1, 2)\n",
      "True\n"
     ]
    }
   ],
   "source": [
    "# You can do most of the list operations on tuples too\n",
    "print(len(tup))         # => 3\n",
    "print(tup + (4, 5, 6))  # => (1, 2, 3, 4, 5, 6)\n",
    "print(tup[:2])          # => (1, 2)\n",
    "print(2 in tup)         # => True"
   ]
  },
  {
   "cell_type": "code",
   "execution_count": 74,
   "id": "3de8c993",
   "metadata": {},
   "outputs": [
    {
     "name": "stdout",
     "output_type": "stream",
     "text": [
      "0\n",
      "1\n"
     ]
    }
   ],
   "source": [
    "# tuple obviously has no extend or remove function. It only has 'count' and 'index'\n",
    "print(tup.count(5)) # Count how many 5s are in the tuple -> 0\n",
    "print(tup.count(1)) # Count how many 1s are in the tuple -> 1"
   ]
  },
  {
   "cell_type": "code",
   "execution_count": 79,
   "id": "b7351c19",
   "metadata": {},
   "outputs": [
    {
     "name": "stdout",
     "output_type": "stream",
     "text": [
      "1\n",
      "2\n",
      "3\n",
      "1\n",
      "[2, 3]\n",
      "4\n",
      "[2, 3]\n",
      "1\n"
     ]
    }
   ],
   "source": [
    "# Unpacking\n",
    "\n",
    "# You can unpack lists or tuples into different vars\n",
    "\n",
    "a, b, c = (1, 2, 3)\n",
    "print(a)\n",
    "print(b)\n",
    "print(c)\n",
    "\n",
    "# Extended unpacking\n",
    "\n",
    "a, *b, c = (1, 2, 3, 4)\n",
    "print(a)\n",
    "print(b)\n",
    "print(c)\n",
    "\n",
    "# We can swap assignments easily\n",
    "a, b = b, a \n",
    "print(a)\n",
    "print(b)"
   ]
  },
  {
   "cell_type": "markdown",
   "id": "38821e1c",
   "metadata": {},
   "source": [
    "## Dictionaries"
   ]
  },
  {
   "cell_type": "code",
   "execution_count": 104,
   "id": "922f0000",
   "metadata": {},
   "outputs": [
    {
     "name": "stdout",
     "output_type": "stream",
     "text": [
      "{(1, 2, 3): 'bleh'}\n"
     ]
    },
    {
     "ename": "TypeError",
     "evalue": "unhashable type: 'list'",
     "output_type": "error",
     "traceback": [
      "\u001b[0;31m---------------------------------------------------------------------------\u001b[0m",
      "\u001b[0;31mTypeError\u001b[0m                                 Traceback (most recent call last)",
      "Cell \u001b[0;32mIn[104], line 6\u001b[0m\n\u001b[1;32m      4\u001b[0m valid_dict \u001b[38;5;241m=\u001b[39m {(\u001b[38;5;241m1\u001b[39m,\u001b[38;5;241m2\u001b[39m,\u001b[38;5;241m3\u001b[39m): \u001b[38;5;124m\"\u001b[39m\u001b[38;5;124mbleh\u001b[39m\u001b[38;5;124m\"\u001b[39m}\n\u001b[1;32m      5\u001b[0m \u001b[38;5;28mprint\u001b[39m(valid_dict)\n\u001b[0;32m----> 6\u001b[0m invalid_dict \u001b[38;5;241m=\u001b[39m {[\u001b[38;5;241m1\u001b[39m,\u001b[38;5;241m2\u001b[39m,\u001b[38;5;241m3\u001b[39m]: \u001b[38;5;124m\"\u001b[39m\u001b[38;5;124mblah\u001b[39m\u001b[38;5;124m\"\u001b[39m}\n",
      "\u001b[0;31mTypeError\u001b[0m: unhashable type: 'list'"
     ]
    }
   ],
   "source": [
    "# Dict keys have to be immutable object types - this is to ensure it can be converted to a fixed hash-valuje\n",
    "# for efficient lookups. Immutable types are e.g. ints, floats, strings, tuples.\n",
    "\n",
    "valid_dict = {(1,2,3): \"bleh\"}\n",
    "print(valid_dict)\n",
    "invalid_dict = {[1,2,3]: \"blah\"}"
   ]
  },
  {
   "cell_type": "code",
   "execution_count": 105,
   "id": "9665a95e",
   "metadata": {},
   "outputs": [
    {
     "data": {
      "text/plain": [
       "1"
      ]
     },
     "execution_count": 105,
     "metadata": {},
     "output_type": "execute_result"
    }
   ],
   "source": [
    "d = {\"one\": 1, \"two\": 2, \"three\": 3}\n",
    "\n",
    "# simple lookup\n",
    "d[\"one\"]"
   ]
  },
  {
   "cell_type": "code",
   "execution_count": 106,
   "id": "30fbe02c",
   "metadata": {},
   "outputs": [
    {
     "name": "stdout",
     "output_type": "stream",
     "text": [
      "dict_keys(['one', 'two', 'three'])\n",
      "<class 'dict_keys'>\n"
     ]
    },
    {
     "data": {
      "text/plain": [
       "['one', 'two', 'three']"
      ]
     },
     "execution_count": 106,
     "metadata": {},
     "output_type": "execute_result"
    }
   ],
   "source": [
    "# keys() returns an iterable of all keys in the dict. We can convert it to a list with list()\n",
    "print(d.keys())\n",
    "print(type(d.keys()))\n",
    "list(d.keys())\n",
    "\n",
    "# As of Python 3.7 this returns the keys in order "
   ]
  },
  {
   "cell_type": "code",
   "execution_count": 107,
   "id": "a910cfab",
   "metadata": {},
   "outputs": [
    {
     "name": "stdout",
     "output_type": "stream",
     "text": [
      "dict_values([1, 2, 3])\n",
      "<class 'dict_values'>\n"
     ]
    },
    {
     "data": {
      "text/plain": [
       "[1, 2, 3]"
      ]
     },
     "execution_count": 107,
     "metadata": {},
     "output_type": "execute_result"
    }
   ],
   "source": [
    "# Similar for values\n",
    "print(d.values())\n",
    "print(type(d.values()))\n",
    "list(d.values())"
   ]
  },
  {
   "cell_type": "code",
   "execution_count": 108,
   "id": "e2a2ff81",
   "metadata": {},
   "outputs": [
    {
     "name": "stdout",
     "output_type": "stream",
     "text": [
      "True\n",
      "False\n"
     ]
    },
    {
     "ename": "KeyError",
     "evalue": "'four'",
     "output_type": "error",
     "traceback": [
      "\u001b[0;31m---------------------------------------------------------------------------\u001b[0m",
      "\u001b[0;31mKeyError\u001b[0m                                  Traceback (most recent call last)",
      "Cell \u001b[0;32mIn[108], line 4\u001b[0m\n\u001b[1;32m      2\u001b[0m \u001b[38;5;28mprint\u001b[39m(\u001b[38;5;124m\"\u001b[39m\u001b[38;5;124mone\u001b[39m\u001b[38;5;124m\"\u001b[39m \u001b[38;5;129;01min\u001b[39;00m d)\n\u001b[1;32m      3\u001b[0m \u001b[38;5;28mprint\u001b[39m(\u001b[38;5;124m\"\u001b[39m\u001b[38;5;124mfour\u001b[39m\u001b[38;5;124m\"\u001b[39m \u001b[38;5;129;01min\u001b[39;00m d)\n\u001b[0;32m----> 4\u001b[0m \u001b[43md\u001b[49m\u001b[43m[\u001b[49m\u001b[38;5;124;43m\"\u001b[39;49m\u001b[38;5;124;43mfour\u001b[39;49m\u001b[38;5;124;43m\"\u001b[39;49m\u001b[43m]\u001b[49m\n",
      "\u001b[0;31mKeyError\u001b[0m: 'four'"
     ]
    }
   ],
   "source": [
    "# Check for existing of key in dict\n",
    "print(\"one\" in d)\n",
    "print(\"four\" in d)\n",
    "d[\"four\"] # KeyError"
   ]
  },
  {
   "cell_type": "code",
   "execution_count": 109,
   "id": "6f7c0928",
   "metadata": {},
   "outputs": [
    {
     "name": "stdout",
     "output_type": "stream",
     "text": [
      "1\n",
      "None\n",
      "4\n"
     ]
    }
   ],
   "source": [
    "# To avoid the KeyError, use get()\n",
    "print(d.get(\"one\"))\n",
    "print(d.get(\"four\"))\n",
    "print(d.get(\"four\", 4)) # second arg passes the default value to take if the key isn't found in d"
   ]
  },
  {
   "cell_type": "code",
   "execution_count": 110,
   "id": "01fce462",
   "metadata": {},
   "outputs": [
    {
     "name": "stdout",
     "output_type": "stream",
     "text": [
      "{'one': 1, 'two': 2, 'three': 3}\n",
      "{'one': 1, 'two': 2, 'three': 3, 'five': 5}\n",
      "{'one': 1, 'two': 2, 'three': 3, 'five': 5}\n"
     ]
    }
   ],
   "source": [
    "# \"setdefault()\" inserts into a dictionary only if the given key isn't present\n",
    "print(d)\n",
    "d.setdefault(\"five\", 5)\n",
    "print(d)\n",
    "d.setdefault(\"five\", 6)  # still 5\n",
    "print(d)"
   ]
  },
  {
   "cell_type": "code",
   "execution_count": 111,
   "id": "11007858",
   "metadata": {},
   "outputs": [
    {
     "data": {
      "text/plain": [
       "{'one': 1, 'two': 2, 'three': 3, 'five': 5, 'four': 4}"
      ]
     },
     "execution_count": 111,
     "metadata": {},
     "output_type": "execute_result"
    }
   ],
   "source": [
    "d.update({\"four\": 4})\n",
    "d"
   ]
  },
  {
   "cell_type": "code",
   "execution_count": 112,
   "id": "b27c42c7",
   "metadata": {},
   "outputs": [
    {
     "data": {
      "text/plain": [
       "{'two': 2, 'three': 3, 'five': 5, 'four': 4}"
      ]
     },
     "execution_count": 112,
     "metadata": {},
     "output_type": "execute_result"
    }
   ],
   "source": [
    "del d[\"one\"]\n",
    "d"
   ]
  },
  {
   "cell_type": "code",
   "execution_count": null,
   "id": "0f73e624",
   "metadata": {},
   "outputs": [],
   "source": [
    "# Sets store..."
   ]
  }
 ],
 "metadata": {
  "kernelspec": {
   "display_name": "Python 3 (ipykernel)",
   "language": "python",
   "name": "python3"
  },
  "language_info": {
   "codemirror_mode": {
    "name": "ipython",
    "version": 3
   },
   "file_extension": ".py",
   "mimetype": "text/x-python",
   "name": "python",
   "nbconvert_exporter": "python",
   "pygments_lexer": "ipython3",
   "version": "3.9.12"
  }
 },
 "nbformat": 4,
 "nbformat_minor": 5
}
